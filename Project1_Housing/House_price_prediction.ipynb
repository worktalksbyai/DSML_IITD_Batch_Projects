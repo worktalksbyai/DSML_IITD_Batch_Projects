{
  "cells": [
    {
      "cell_type": "markdown",
      "metadata": {
        "id": "lwntBkF6hGDu"
      },
      "source": [
        "## House Price Prediction\n",
        "1. How you approach the dataset.\n",
        "2. EDA performed if any\n",
        "3. Different Models built\n",
        "4. Parameters you optimized and your final model\n",
        "5. Final recommendations wrt to the model\n",
        "\n",
        "Dataset: data.csv"
      ]
    },
    {
      "cell_type": "code",
      "execution_count": null,
      "metadata": {
        "id": "Tatmzns7pAfx"
      },
      "outputs": [],
      "source": [
        "# set file path\n",
        "file_path = 'data.csv'"
      ]
    },
    {
      "cell_type": "code",
      "execution_count": null,
      "metadata": {
        "colab": {
          "base_uri": "https://localhost:8080/",
          "height": 226
        },
        "id": "ZXFPouumpZdE",
        "outputId": "53d8ee12-888c-41aa-a6bc-f8a860eeda62"
      },
      "outputs": [],
      "source": [
        "import pandas as pd\n",
        "df = pd.read_csv(file_path)\n",
        "df.head()"
      ]
    },
    {
      "cell_type": "code",
      "execution_count": null,
      "metadata": {
        "colab": {
          "base_uri": "https://localhost:8080/"
        },
        "id": "MF7hatxvpjqB",
        "outputId": "3f556644-e1b1-4802-daeb-896a6ab776f3"
      },
      "outputs": [],
      "source": [
        "df.shape"
      ]
    },
    {
      "cell_type": "code",
      "execution_count": null,
      "metadata": {
        "colab": {
          "base_uri": "https://localhost:8080/"
        },
        "id": "sf2tTpkwpqsI",
        "outputId": "fc3d5a6b-8265-4f4c-a5b2-e5ca2c068ada"
      },
      "outputs": [],
      "source": [
        "df.info()"
      ]
    },
    {
      "cell_type": "code",
      "execution_count": null,
      "metadata": {
        "colab": {
          "base_uri": "https://localhost:8080/"
        },
        "id": "z_9sKx86ptp8",
        "outputId": "6dc8ddf8-b243-4f37-c282-d4f71820fcf6"
      },
      "outputs": [],
      "source": [
        "print(\"Columns:\", df.columns.tolist())"
      ]
    },
    {
      "cell_type": "code",
      "execution_count": null,
      "metadata": {
        "id": "XX2eti3Tp7jY"
      },
      "outputs": [],
      "source": [
        "# Target column\n",
        "target = 'median_house_value'"
      ]
    },
    {
      "cell_type": "code",
      "execution_count": null,
      "metadata": {
        "colab": {
          "base_uri": "https://localhost:8080/",
          "height": 398
        },
        "id": "W97pHsKeqIMa",
        "outputId": "b5bf7b9f-069e-49dc-be07-247c1c57e2f4"
      },
      "outputs": [],
      "source": [
        "#Check for missing values\n",
        "df.isnull().sum().sort_values(ascending=False)"
      ]
    },
    {
      "cell_type": "code",
      "execution_count": null,
      "metadata": {
        "colab": {
          "base_uri": "https://localhost:8080/"
        },
        "id": "b_DJaKJ9qSzz",
        "outputId": "6922d212-ef4d-41b7-b00f-300a3f703911"
      },
      "outputs": [],
      "source": [
        "# Separate numerical and categorical variables\n",
        "# Numerical features\n",
        "num_cols = df.select_dtypes(include=['int64', 'float64']).columns.tolist()\n",
        "\n",
        "# Categorical features\n",
        "cat_cols = df.select_dtypes(include=['object']).columns.tolist()\n",
        "\n",
        "# Remove target from features (if it's numeric)\n",
        "if target in num_cols:\n",
        "    num_cols.remove(target)\n",
        "elif target in cat_cols:\n",
        "    cat_cols.remove(target)\n",
        "\n",
        "print(\"Numerical columns:\", num_cols)\n",
        "print(\"Categorical columns:\", cat_cols)"
      ]
    },
    {
      "cell_type": "code",
      "execution_count": null,
      "metadata": {
        "id": "D8iIOS-KrcB7"
      },
      "outputs": [],
      "source": [
        "import seaborn as sns\n",
        "import matplotlib.pyplot as plt\n",
        "import numpy as np"
      ]
    },
    {
      "cell_type": "code",
      "execution_count": null,
      "metadata": {
        "colab": {
          "base_uri": "https://localhost:8080/",
          "height": 509
        },
        "id": "dY7hk6JArixY",
        "outputId": "bd067806-3770-4046-9e9d-5baeaaff9d9a"
      },
      "outputs": [],
      "source": [
        "plt.figure(figsize=(14, 6))\n",
        "\n",
        "# Histogram\n",
        "plt.subplot(1, 2, 1)\n",
        "sns.histplot(df[target], kde=True)\n",
        "plt.title('Histogram of Target Variable')\n",
        "\n",
        "# Boxplot\n",
        "plt.subplot(1, 2, 2)\n",
        "sns.boxplot(x=df[target])\n",
        "plt.title('Boxplot of Target Variable')\n",
        "\n",
        "plt.tight_layout()\n",
        "plt.show()"
      ]
    },
    {
      "cell_type": "code",
      "execution_count": null,
      "metadata": {
        "colab": {
          "base_uri": "https://localhost:8080/",
          "height": 959
        },
        "id": "pk987g2FrxJX",
        "outputId": "782501e4-c30c-494d-b59b-c4ad41eae25c"
      },
      "outputs": [],
      "source": [
        "# Correlation matrix\n",
        "corr_matrix = df.select_dtypes(include=['int64', 'float64']).corr()\n",
        "\n",
        "plt.figure(figsize=(12, 10))\n",
        "sns.heatmap(corr_matrix, annot=True, fmt='.2f', cmap='coolwarm', square=True)\n",
        "plt.title('Correlation Heatmap of Numerical Features')\n",
        "plt.show()"
      ]
    },
    {
      "cell_type": "code",
      "execution_count": null,
      "metadata": {
        "colab": {
          "base_uri": "https://localhost:8080/",
          "height": 407
        },
        "id": "xqS-K0nor39V",
        "outputId": "877e796d-c7ac-4319-f0ec-f518c92afc8f"
      },
      "outputs": [],
      "source": [
        "for col in cat_cols:\n",
        "    plt.figure(figsize=(10, 4))\n",
        "    sns.barplot(x=col, y=target, data=df, estimator=np.mean)\n",
        "    plt.title(f'{col} vs. {target}')\n",
        "    plt.xticks(rotation=45)\n",
        "    plt.tight_layout()\n",
        "    plt.show()"
      ]
    },
    {
      "cell_type": "code",
      "execution_count": null,
      "metadata": {
        "colab": {
          "base_uri": "https://localhost:8080/",
          "height": 1000
        },
        "id": "vJ4mrfiJsEVu",
        "outputId": "62fe9e22-6ec6-4328-90f2-2569c38bf5f5"
      },
      "outputs": [],
      "source": [
        "# Get top 5 correlated features with the target\n",
        "top_corr = corr_matrix[target].abs().sort_values(ascending=False).head(6).index.tolist()\n",
        "\n",
        "# Pairplot\n",
        "sns.pairplot(df[top_corr])\n",
        "plt.suptitle(\"Pair Plot of Top Correlated Numerical Features\", y=1.02)\n",
        "plt.show()"
      ]
    },
    {
      "cell_type": "code",
      "execution_count": null,
      "metadata": {
        "colab": {
          "base_uri": "https://localhost:8080/",
          "height": 1000
        },
        "id": "-tDUs0kssWTl",
        "outputId": "376eb09f-9321-4e88-a20c-af8f88af5503"
      },
      "outputs": [],
      "source": [
        "for col in top_corr:\n",
        "    if col != target:\n",
        "        plt.figure(figsize=(8, 4))\n",
        "        sns.scatterplot(x=df[col], y=df[target])\n",
        "        plt.title(f'{target} vs {col}')\n",
        "        plt.tight_layout()\n",
        "        plt.show()"
      ]
    },
    {
      "cell_type": "code",
      "execution_count": null,
      "metadata": {
        "colab": {
          "base_uri": "https://localhost:8080/",
          "height": 320
        },
        "id": "4XMMsimosiPR",
        "outputId": "57343298-887a-4a69-bb23-04e3291d1c45"
      },
      "outputs": [],
      "source": [
        "df.describe()"
      ]
    },
    {
      "cell_type": "code",
      "execution_count": null,
      "metadata": {
        "colab": {
          "base_uri": "https://localhost:8080/",
          "height": 272
        },
        "id": "GoTbsQdCswTl",
        "outputId": "705f0406-4a6a-4b42-9a0c-cca86179db7a"
      },
      "outputs": [],
      "source": [
        "df['ocean_proximity'].value_counts()"
      ]
    },
    {
      "cell_type": "code",
      "execution_count": null,
      "metadata": {
        "colab": {
          "base_uri": "https://localhost:8080/",
          "height": 398
        },
        "id": "WuSqjhUMsy_7",
        "outputId": "474b48dd-f84e-420a-8f3b-cefc9cd7d450"
      },
      "outputs": [],
      "source": [
        "# check the missing values\n",
        "df.isnull().sum().sort_values(ascending=False)"
      ]
    },
    {
      "cell_type": "code",
      "execution_count": null,
      "metadata": {
        "id": "Ofegtpr7wFQj"
      },
      "outputs": [],
      "source": [
        "# Fill missing values with Median\n",
        "df['total_bedrooms'] = df['total_bedrooms'].fillna(df['total_bedrooms'].median())"
      ]
    },
    {
      "cell_type": "code",
      "execution_count": null,
      "metadata": {
        "colab": {
          "base_uri": "https://localhost:8080/",
          "height": 398
        },
        "id": "lRXHaUEIwTcP",
        "outputId": "dce9ed50-9463-4929-866e-34ea76dfe63c"
      },
      "outputs": [],
      "source": [
        "df.isnull().sum().sort_values(ascending=False)"
      ]
    },
    {
      "cell_type": "code",
      "execution_count": null,
      "metadata": {
        "colab": {
          "base_uri": "https://localhost:8080/",
          "height": 226
        },
        "id": "Et_m7u-Ewk0U",
        "outputId": "ffc57bc7-018b-4465-82ee-dfb709327493"
      },
      "outputs": [],
      "source": [
        "df.head()"
      ]
    },
    {
      "cell_type": "code",
      "execution_count": null,
      "metadata": {
        "colab": {
          "base_uri": "https://localhost:8080/"
        },
        "id": "4695b308",
        "outputId": "9c4c9050-f19d-4ee5-b49d-50bb3cfcfd97"
      },
      "outputs": [],
      "source": [
        "df['total_bedrooms'] = df['total_bedrooms'].astype('int64')\n",
        "df.info()"
      ]
    },
    {
      "cell_type": "code",
      "execution_count": null,
      "metadata": {
        "colab": {
          "base_uri": "https://localhost:8080/",
          "height": 226
        },
        "id": "fNba1Wi2zed3",
        "outputId": "2a4a91a8-6a58-4bad-b284-f55f3d0e2a3b"
      },
      "outputs": [],
      "source": [
        "df.head()"
      ]
    },
    {
      "cell_type": "code",
      "execution_count": null,
      "metadata": {
        "id": "d-s5AIhRzfY-"
      },
      "outputs": [],
      "source": [
        "# Import necessary libraries\n",
        "import numpy as np\n",
        "import pandas as pd\n",
        "import matplotlib.pyplot as plt\n",
        "import seaborn as sns\n",
        "from sklearn.model_selection import train_test_split\n",
        "from sklearn.preprocessing import StandardScaler, PolynomialFeatures\n",
        "from sklearn.linear_model import LinearRegression\n",
        "from sklearn.ensemble import RandomForestRegressor\n",
        "from xgboost import XGBRegressor\n",
        "from sklearn.metrics import mean_squared_error, r2_score\n",
        "from sklearn.pipeline import Pipeline"
      ]
    },
    {
      "cell_type": "code",
      "execution_count": null,
      "metadata": {
        "colab": {
          "base_uri": "https://localhost:8080/",
          "height": 347
        },
        "id": "vKUdsLEY0fVc",
        "outputId": "53b457d1-3aa0-4807-9a79-df31f3af8b64"
      },
      "outputs": [],
      "source": [
        "# Assuming your data is loaded in df\n",
        "# Separate features and target\n",
        "X = df.drop('median_house_value', axis=1)  # Replace 'price' with your target column name\n",
        "y = df['median_house_value']\n",
        "\n",
        "# Split data into train and test sets\n",
        "X_train, X_test, y_train, y_test = train_test_split(X, y, test_size=0.2, random_state=42)\n",
        "\n",
        "# Standardize features\n",
        "scaler = StandardScaler()\n",
        "X_train_scaled = scaler.fit_transform(X_train)\n",
        "X_test_scaled = scaler.transform(X_test)"
      ]
    }
  ],
  "metadata": {
    "colab": {
      "gpuType": "T4",
      "provenance": []
    },
    "kernelspec": {
      "display_name": "Python 3",
      "language": "python",
      "name": "python3"
    },
    "language_info": {
      "codemirror_mode": {
        "name": "ipython",
        "version": 3
      },
      "file_extension": ".py",
      "mimetype": "text/x-python",
      "name": "python",
      "nbconvert_exporter": "python",
      "pygments_lexer": "ipython3",
      "version": "3.13.2"
    }
  },
  "nbformat": 4,
  "nbformat_minor": 0
}
